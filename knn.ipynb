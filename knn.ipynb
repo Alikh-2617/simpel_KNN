{
 "cells": [
  {
   "cell_type": "code",
   "execution_count": null,
   "outputs": [],
   "source": [
    "import pandas as pd\n",
    "import numpy as np\n",
    "import matplotlib.pyplot as plt\n",
    "import seaborn as sns\n",
    "from sklearn.neighbors import KNeighborsClassifier\n",
    "from sklearn.model_selection import train_test_split\n",
    "from sklearn import metrics\n",
    "import warnings\n",
    "from sklearn.model_selection import GridSearchCV"
   ],
   "metadata": {
    "collapsed": false,
    "pycharm": {
     "name": "#%%\n"
    }
   }
  },
  {
   "cell_type": "code",
   "execution_count": null,
   "outputs": [],
   "source": [
    "data = pd.read_csv('diabetes.csv')\n",
    "data.describe()"
   ],
   "metadata": {
    "collapsed": false,
    "pycharm": {
     "name": "#%%\n"
    }
   }
  },
  {
   "cell_type": "code",
   "execution_count": null,
   "outputs": [],
   "source": [
    "x = pd.DataFrame(data , columns = ['Pregnancies','Glucose','BloodPressure','SkinThickness','Insulin','BMI','DiabetesPedigreeFunction','Age']).values\n",
    "y = data.Outcome.values.reshape(-1,1)"
   ],
   "metadata": {
    "collapsed": false,
    "pycharm": {
     "name": "#%%\n"
    }
   }
  },
  {
   "cell_type": "code",
   "execution_count": null,
   "outputs": [],
   "source": [
    "## create x_train , x_test , y_train _ y_test and prosent !"
   ],
   "metadata": {
    "collapsed": false,
    "pycharm": {
     "name": "#%%\n"
    }
   }
  },
  {
   "cell_type": "code",
   "execution_count": null,
   "outputs": [],
   "source": [
    "x_train , x_test , y_train , y_test = train_test_split (x, y , test_size = 0.3 , random_state = 0)"
   ],
   "metadata": {
    "collapsed": false,
    "pycharm": {
     "name": "#%%\n"
    }
   }
  },
  {
   "cell_type": "code",
   "execution_count": null,
   "outputs": [],
   "source": [
    "## meghadr (K ) ya tedade hamsaye yahe moghayese ro midim\n",
    "## ravel ye funktion az klass import warning hast"
   ],
   "metadata": {
    "collapsed": false,
    "pycharm": {
     "name": "#%%\n"
    }
   }
  },
  {
   "cell_type": "code",
   "execution_count": null,
   "outputs": [],
   "source": [
    "K = 5\n",
    "clf = KNeighborsClassifier (K)\n",
    "clf.fit(x_train , y_train.ravel())\n",
    "y_pridc = clf.predict (x_test)"
   ],
   "metadata": {
    "collapsed": false,
    "pycharm": {
     "name": "#%%\n"
    }
   }
  },
  {
   "cell_type": "code",
   "execution_count": null,
   "outputs": [],
   "source": [
    "## deghate machine ro hesab mikonim\n",
    "## baraye negha kardan deghat machine bayad Y_test ro moghabel y_predic nezarin"
   ],
   "metadata": {
    "collapsed": false,
    "pycharm": {
     "name": "#%%\n"
    }
   }
  },
  {
   "cell_type": "code",
   "execution_count": null,
   "outputs": [],
   "source": [
    "print (\"Accuracy = \" , metrics.accuracy_score(y_test , y_pridc))"
   ],
   "metadata": {
    "collapsed": false,
    "pycharm": {
     "name": "#%%\n"
    }
   }
  },
  {
   "cell_type": "code",
   "execution_count": null,
   "outputs": [],
   "source": [
    "## meghar K ro taghir midim ta bebinim kodom adad behtarin deghat ro neshon mide !!"
   ],
   "metadata": {
    "collapsed": false,
    "pycharm": {
     "name": "#%%\n"
    }
   }
  },
  {
   "cell_type": "code",
   "execution_count": null,
   "outputs": [],
   "source": [
    "K = 3\n",
    "clf = KNeighborsClassifier (K)\n",
    "clf.fit(x_train , y_train.ravel())\n",
    "y_pridc = clf.predict (x_test)\n",
    "print (\"Accuracy = \" , metrics.accuracy_score(y_test , y_pridc))"
   ],
   "metadata": {
    "collapsed": false,
    "pycharm": {
     "name": "#%%\n"
    }
   }
  },
  {
   "cell_type": "code",
   "execution_count": null,
   "outputs": [],
   "source": [
    "K = 10\n",
    "clf = KNeighborsClassifier (K)\n",
    "clf.fit(x_train , y_train.ravel())\n",
    "y_pridc = clf.predict (x_test)\n",
    "print (\"Accuracy = \" , metrics.accuracy_score(y_test , y_pridc))"
   ],
   "metadata": {
    "collapsed": false,
    "pycharm": {
     "name": "#%%\n"
    }
   }
  },
  {
   "cell_type": "code",
   "execution_count": null,
   "outputs": [],
   "source": [
    "## ye ravaesh khob baraye tagire K =20\n",
    "## Acc ye matrix misaze ke be tedade K hast bad : yani (k=20) 20 ro to ye matrix dorost mikone  5 dar 4 !!\n",
    "## fargesh ine ke list ro az gabl dorost mike ba 20 ta jaye khali !!\n",
    "## chone K az 1 shoro mishe (range (1 ,k+1 )) va k = 20 , va range (k = 20) mishe 19 !!\n",
    "## Acc [item - 1] = yani indez az 0 hast !! va range az 1"
   ],
   "metadata": {
    "collapsed": false,
    "pycharm": {
     "name": "#%%\n"
    }
   }
  },
  {
   "cell_type": "code",
   "execution_count": null,
   "outputs": [],
   "source": [
    "K = 7\n",
    "Acc = np.zeros((K))\n",
    "\n",
    "for i in range (1, K+1):\n",
    "    clfi =  KNeighborsClassifier(n_neighbors = i)\n",
    "    clfi.fit(x_train , y_train.ravel())\n",
    "    y_pridic = clfi.predict(x_test)\n",
    "    Acc[i - 1] = metrics.accuracy_score(y_test , y_pridic)\n",
    "\n",
    "Acc"
   ],
   "metadata": {
    "collapsed": false,
    "pycharm": {
     "name": "#%%\n"
    }
   }
  },
  {
   "cell_type": "code",
   "execution_count": null,
   "outputs": [],
   "source": [
    "## K kan inte vara 0\n",
    "## for item in range (0 , 21):\n",
    "##    clfi1 =  KNeighborsClassifier(item)\n",
    "##    clfi1.fit(x_train , y_train.ravel())\n",
    "##    y_pridc1 = clfi1.predict (x_test)\n",
    "##    Acc1[item -1] = metrics.accuracy_score(y_test , y_pridc1)\n",
    "\n",
    "## print(Acc1)\n",
    "Acc1 = []\n",
    "for item in range (1, 21):\n",
    "    clfi1 =  KNeighborsClassifier(item)\n",
    "    clfi1.fit(x_train , y_train.ravel())\n",
    "    y_pridc1 = clfi1.predict (x_test)\n",
    "    Acc1.append (metrics.accuracy_score(y_test , y_pridc1))\n",
    "\n",
    "print(Acc1)"
   ],
   "metadata": {
    "collapsed": false,
    "pycharm": {
     "name": "#%%\n"
    }
   }
  },
  {
   "cell_type": "code",
   "execution_count": null,
   "outputs": [],
   "source": [
    "### peyda kardan behtarin va bala tarin deghat ya metrics.accuracy_score !!"
   ],
   "metadata": {
    "collapsed": false,
    "pycharm": {
     "name": "#%%\n"
    }
   }
  },
  {
   "cell_type": "code",
   "execution_count": null,
   "outputs": [],
   "source": [
    "print(np.max(Acc))\n",
    "print(np.max(Acc1))\n",
    "\n",
    "print(np.min(Acc))\n",
    "print(np.min(Acc1))"
   ],
   "metadata": {
    "collapsed": false,
    "pycharm": {
     "name": "#%%\n"
    }
   }
  },
  {
   "cell_type": "code",
   "execution_count": null,
   "outputs": [],
   "source": [
    "### other way !! to show Accorycs beteewn train deta az testing data\n",
    "## innan predict !! vi kan välja och hitta besta K number innan knn.fit => test Deta !!\n",
    "\n",
    "## inja ham mishe behine sazi kard !!"
   ],
   "metadata": {
    "collapsed": false,
    "pycharm": {
     "name": "#%%\n"
    }
   }
  },
  {
   "cell_type": "code",
   "execution_count": null,
   "outputs": [],
   "source": [
    "train_Acc_K = []\n",
    "test_Acc = []\n",
    "neighbors_range = range (1 , 11)\n",
    "for neighbors in neighbors_range:\n",
    "    knn = KNeighborsClassifier ( neighbors)\n",
    "    knn.fit(x_train , y_train.ravel())\n",
    "    train_Acc_K.append(knn.score(x_train , y_train))\n",
    "    test_Acc.append(knn.score(x_test , y_test))\n",
    "\n",
    "plt.plot(neighbors_range , train_Acc_K , '-o', label = 'Accuracy of train')\n",
    "plt.plot(neighbors_range ,test_Acc , '-o' , label = 'Accuracy of test ' )\n",
    "plt.legend() ## label inside\n",
    "plt.xlabel ('Accuracy')\n",
    "plt.ylabel ('Number of neighbors')\n",
    "plt.grid()\n",
    "plt.show()"
   ],
   "metadata": {
    "collapsed": false,
    "pycharm": {
     "name": "#%%\n"
    }
   }
  },
  {
   "cell_type": "code",
   "execution_count": null,
   "outputs": [],
   "source": [
    "## baraye optimaze kardan model !!\n",
    "## mohem : ensemple learning !"
   ],
   "metadata": {
    "collapsed": false,
    "pycharm": {
     "name": "#%%\n"
    }
   }
  },
  {
   "cell_type": "code",
   "execution_count": null,
   "outputs": [],
   "source": [
    "from sklearn.model_selection import GridSearchCV     ## in Class makhsos KNN hast va zamani ke (k =10) migire\n",
    "                                                     ## hamzaman az class validation ham dorost mikone !!\n",
    "\n",
    "parameters = {'n_neighbors':range (1,50)}           ## paramet ya range midahim\n",
    "\n",
    "grid_kn = GridSearchCV(estimator = knn ,           ## model ro mishazim va azash ye Onjekt misazim\n",
    "                      param_grid = parameters ,   ## Range of K\n",
    "                      scoring = 'accuracy',       ## accuracy ye funktion hast !! ke bala tarif kardim\n",
    "                                                  ## megdaresh ro mirizim to scoring !\n",
    "                                                  ## cross-validation Generetor !!\n",
    "\n",
    "                      cv = 10,                   ## cv tedade cross haye Evaluetion hast : 5 ta crocc kon data ro\n",
    "                                              ## megdar cv ro mitonim to ye (for loop ) bezarim ta megdar haye mokhtalef bedim\n",
    "                      verbose = 1               ## Time to calculate\n",
    "                  ##    n_jobs = -1             ## Help to CPU\n",
    "                      )\n",
    "\n",
    "grid_kn.fit ( x_train , y_train.ravel())"
   ],
   "metadata": {
    "collapsed": false,
    "pycharm": {
     "name": "#%%\n"
    }
   }
  },
  {
   "cell_type": "code",
   "execution_count": null,
   "outputs": [],
   "source": [
    "grid_kn.best_params_      ## megdar behtare K ="
   ],
   "metadata": {
    "collapsed": false,
    "pycharm": {
     "name": "#%%\n"
    }
   }
  },
  {
   "cell_type": "code",
   "execution_count": null,
   "metadata": {
    "collapsed": true
   },
   "outputs": [],
   "source": []
  }
 ],
 "metadata": {
  "kernelspec": {
   "display_name": "Python 3",
   "language": "python",
   "name": "python3"
  },
  "language_info": {
   "codemirror_mode": {
    "name": "ipython",
    "version": 2
   },
   "file_extension": ".py",
   "mimetype": "text/x-python",
   "name": "python",
   "nbconvert_exporter": "python",
   "pygments_lexer": "ipython2",
   "version": "2.7.6"
  }
 },
 "nbformat": 4,
 "nbformat_minor": 0
}